{
 "cells": [
  {
   "cell_type": "code",
   "execution_count": 23,
   "metadata": {},
   "outputs": [
    {
     "name": "stdout",
     "output_type": "stream",
     "text": [
      "2.3.1\n"
     ]
    }
   ],
   "source": [
    "import tensorflow as tf\n",
    "from tensorflow import keras\n",
    "import cv2\n",
    "import numpy as np\n",
    "import os\n",
    "import matplotlib.pyplot as plt\n",
    "\n",
    "print(tf.__version__)"
   ]
  },
  {
   "cell_type": "code",
   "execution_count": 24,
   "metadata": {},
   "outputs": [
    {
     "name": "stdout",
     "output_type": "stream",
     "text": [
      "(195, 150, 150, 3)\n"
     ]
    }
   ],
   "source": [
    "train_folder_path=\"./data/entrenamiento\"\n",
    "data=[]\n",
    "img_size=150\n",
    "for img in os.listdir(train_folder_path):\n",
    "    img = cv2.imread(os.path.join(train_folder_path,img))\n",
    "    img_resize= cv2.resize(img,(img_size,img_size))\n",
    "    data.append(img_resize)\n",
    "Images = np.array(data)\n",
    "print(Images.shape)"
   ]
  },
  {
   "cell_type": "code",
   "execution_count": 25,
   "metadata": {},
   "outputs": [],
   "source": [
    "etq0=np.repeat(0,13)\n",
    "etq1=np.repeat(1,13)\n",
    "etq2=np.repeat(2,13)\n",
    "etq3=np.repeat(3,13)\n",
    "etq4=np.repeat(4,13)\n",
    "etq5=np.repeat(5,13)\n",
    "etq6=np.repeat(6,13)\n",
    "etq7=np.repeat(7,13)\n",
    "etq8=np.repeat(8,13)\n",
    "etq9=np.repeat(9,13)\n",
    "etq10=np.repeat(10,13)\n",
    "etq11=np.repeat(11,13)\n",
    "etq12=np.repeat(12,13)\n",
    "etq13=np.repeat(13,13)\n",
    "etq14=np.repeat(14,13)"
   ]
  },
  {
   "cell_type": "code",
   "execution_count": 26,
   "metadata": {},
   "outputs": [],
   "source": [
    "class_names=['Acer Campestre','Acer Capillipes','Acer Cincinatum','Acer Mono','Acer Opalus','Acer Palmatum','Acer Pictum',\n",
    "                 'Acer Platanoids','Acer Rubrum','Acer Rufinerve','Acer Saccharinum','Alnus Cordata','Alnus Maximowiczii',\n",
    "                 'Alnus Rubra','Alnus Sieboldiana']"
   ]
  },
  {
   "cell_type": "code",
   "execution_count": 27,
   "metadata": {},
   "outputs": [
    {
     "name": "stdout",
     "output_type": "stream",
     "text": [
      "(195,)\n"
     ]
    }
   ],
   "source": [
    "labels=np.concatenate([etq0,etq1,etq2,etq3,etq4,etq5,etq6,etq7,etq8,etq9,etq10,etq11,etq12,etq13,etq14])\n",
    "Labels=np.array(labels)\n",
    "print(Labels.shape)"
   ]
  },
  {
   "cell_type": "code",
   "execution_count": 28,
   "metadata": {},
   "outputs": [
    {
     "name": "stdout",
     "output_type": "stream",
     "text": [
      "Epoch 1/30\n",
      "7/7 [==============================] - 0s 62ms/step - loss: 9281.9902 - accuracy: 0.0872\n",
      "Epoch 2/30\n",
      "7/7 [==============================] - 0s 63ms/step - loss: 7980.3672 - accuracy: 0.2513\n",
      "Epoch 3/30\n",
      "7/7 [==============================] - 1s 87ms/step - loss: 2861.4827 - accuracy: 0.4769\n",
      "Epoch 4/30\n",
      "7/7 [==============================] - 1s 106ms/step - loss: 1996.8311 - accuracy: 0.6051\n",
      "Epoch 5/30\n",
      "7/7 [==============================] - 1s 91ms/step - loss: 790.2624 - accuracy: 0.6872\n",
      "Epoch 6/30\n",
      "7/7 [==============================] - 1s 72ms/step - loss: 290.8612 - accuracy: 0.7795\n",
      "Epoch 7/30\n",
      "7/7 [==============================] - 1s 81ms/step - loss: 79.1345 - accuracy: 0.8974\n",
      "Epoch 8/30\n",
      "7/7 [==============================] - 0s 68ms/step - loss: 165.5728 - accuracy: 0.8410\n",
      "Epoch 9/30\n",
      "7/7 [==============================] - 1s 72ms/step - loss: 44.6426 - accuracy: 0.9538\n",
      "Epoch 10/30\n",
      "7/7 [==============================] - 1s 91ms/step - loss: 26.6717 - accuracy: 0.9538\n",
      "Epoch 11/30\n",
      "7/7 [==============================] - 1s 74ms/step - loss: 6.3381 - accuracy: 0.9744\n",
      "Epoch 12/30\n",
      "7/7 [==============================] - 0s 67ms/step - loss: 8.0828 - accuracy: 0.9795\n",
      "Epoch 13/30\n",
      "7/7 [==============================] - 0s 67ms/step - loss: 7.9082 - accuracy: 0.9846\n",
      "Epoch 14/30\n",
      "7/7 [==============================] - 1s 76ms/step - loss: 33.0525 - accuracy: 0.9692\n",
      "Epoch 15/30\n",
      "7/7 [==============================] - 0s 70ms/step - loss: 97.7131 - accuracy: 0.9436\n",
      "Epoch 16/30\n",
      "7/7 [==============================] - 1s 85ms/step - loss: 207.7503 - accuracy: 0.9590 0s - loss: 210.9964 - accuracy: 0.\n",
      "Epoch 17/30\n",
      "7/7 [==============================] - 0s 70ms/step - loss: 40.9179 - accuracy: 0.9641\n",
      "Epoch 18/30\n",
      "7/7 [==============================] - 1s 84ms/step - loss: 10.5420 - accuracy: 0.9897\n",
      "Epoch 19/30\n",
      "7/7 [==============================] - 1s 76ms/step - loss: 25.6310 - accuracy: 0.9641\n",
      "Epoch 20/30\n",
      "7/7 [==============================] - 1s 92ms/step - loss: 15.4160 - accuracy: 0.9590\n",
      "Epoch 21/30\n",
      "7/7 [==============================] - 1s 73ms/step - loss: 10.3255 - accuracy: 0.9744\n",
      "Epoch 22/30\n",
      "7/7 [==============================] - 1s 74ms/step - loss: 0.3380 - accuracy: 0.9949\n",
      "Epoch 23/30\n",
      "7/7 [==============================] - 1s 101ms/step - loss: 2.3037 - accuracy: 0.9795\n",
      "Epoch 24/30\n",
      "7/7 [==============================] - 1s 81ms/step - loss: 3.9377 - accuracy: 0.9949\n",
      "Epoch 25/30\n",
      "7/7 [==============================] - 0s 71ms/step - loss: 3.5963 - accuracy: 0.9846\n",
      "Epoch 26/30\n",
      "7/7 [==============================] - 1s 113ms/step - loss: 1.3049 - accuracy: 0.9846\n",
      "Epoch 27/30\n",
      "7/7 [==============================] - 1s 78ms/step - loss: 2.5305 - accuracy: 0.9897\n",
      "Epoch 28/30\n",
      "7/7 [==============================] - 1s 74ms/step - loss: 2.6397 - accuracy: 0.9846\n",
      "Epoch 29/30\n",
      "7/7 [==============================] - 0s 70ms/step - loss: 2.9175 - accuracy: 0.9846\n",
      "Epoch 30/30\n",
      "7/7 [==============================] - 1s 73ms/step - loss: 0.0000e+00 - accuracy: 1.0000\n",
      "Epoch 1/50\n",
      "7/7 [==============================] - 0s 70ms/step - loss: 0.0000e+00 - accuracy: 1.0000\n",
      "Epoch 2/50\n",
      "7/7 [==============================] - 0s 66ms/step - loss: 0.0000e+00 - accuracy: 1.0000\n",
      "Epoch 3/50\n",
      "7/7 [==============================] - 1s 79ms/step - loss: 0.0232 - accuracy: 0.9949\n",
      "Epoch 4/50\n",
      "7/7 [==============================] - 1s 84ms/step - loss: 0.0000e+00 - accuracy: 1.0000\n",
      "Epoch 5/50\n",
      "7/7 [==============================] - 1s 86ms/step - loss: 0.2242 - accuracy: 0.9949\n",
      "Epoch 6/50\n",
      "7/7 [==============================] - 1s 77ms/step - loss: 0.0000e+00 - accuracy: 1.0000\n",
      "Epoch 7/50\n",
      "7/7 [==============================] - 1s 77ms/step - loss: 0.0000e+00 - accuracy: 1.0000\n",
      "Epoch 8/50\n",
      "7/7 [==============================] - 0s 67ms/step - loss: 0.0000e+00 - accuracy: 1.0000\n",
      "Epoch 9/50\n",
      "7/7 [==============================] - 1s 73ms/step - loss: 0.0000e+00 - accuracy: 1.0000\n",
      "Epoch 10/50\n",
      "7/7 [==============================] - 0s 68ms/step - loss: 0.0000e+00 - accuracy: 1.0000\n",
      "Epoch 11/50\n",
      "7/7 [==============================] - 1s 75ms/step - loss: 0.0000e+00 - accuracy: 1.0000\n",
      "Epoch 12/50\n",
      "7/7 [==============================] - 1s 82ms/step - loss: 0.0000e+00 - accuracy: 1.0000\n",
      "Epoch 13/50\n",
      "7/7 [==============================] - 0s 67ms/step - loss: 0.0000e+00 - accuracy: 1.0000\n",
      "Epoch 14/50\n",
      "7/7 [==============================] - 0s 67ms/step - loss: 0.0000e+00 - accuracy: 1.0000\n",
      "Epoch 15/50\n",
      "7/7 [==============================] - 0s 70ms/step - loss: 0.0000e+00 - accuracy: 1.0000\n",
      "Epoch 16/50\n",
      "7/7 [==============================] - 0s 70ms/step - loss: 0.0000e+00 - accuracy: 1.0000\n",
      "Epoch 17/50\n",
      "7/7 [==============================] - 0s 65ms/step - loss: 0.0000e+00 - accuracy: 1.0000\n",
      "Epoch 18/50\n",
      "7/7 [==============================] - 0s 69ms/step - loss: 0.0000e+00 - accuracy: 1.0000\n",
      "Epoch 19/50\n",
      "7/7 [==============================] - 1s 73ms/step - loss: 0.0000e+00 - accuracy: 1.0000\n",
      "Epoch 20/50\n",
      "7/7 [==============================] - 1s 75ms/step - loss: 0.0000e+00 - accuracy: 1.0000\n",
      "Epoch 21/50\n",
      "7/7 [==============================] - 0s 70ms/step - loss: 0.0000e+00 - accuracy: 1.0000\n",
      "Epoch 22/50\n",
      "7/7 [==============================] - 0s 65ms/step - loss: 0.0000e+00 - accuracy: 1.0000\n",
      "Epoch 23/50\n",
      "7/7 [==============================] - 0s 69ms/step - loss: 0.0000e+00 - accuracy: 1.0000\n",
      "Epoch 24/50\n",
      "7/7 [==============================] - 0s 68ms/step - loss: 0.0000e+00 - accuracy: 1.0000\n",
      "Epoch 25/50\n",
      "7/7 [==============================] - 0s 70ms/step - loss: 0.0000e+00 - accuracy: 1.0000\n",
      "Epoch 26/50\n",
      "7/7 [==============================] - 0s 70ms/step - loss: 0.0000e+00 - accuracy: 1.0000\n",
      "Epoch 27/50\n",
      "7/7 [==============================] - 0s 70ms/step - loss: 0.0000e+00 - accuracy: 1.0000\n",
      "Epoch 28/50\n",
      "7/7 [==============================] - 1s 79ms/step - loss: 0.0000e+00 - accuracy: 1.0000 0s - loss: 0.0000e+00 - accu\n",
      "Epoch 29/50\n",
      "7/7 [==============================] - 1s 72ms/step - loss: 0.0000e+00 - accuracy: 1.0000\n",
      "Epoch 30/50\n",
      "7/7 [==============================] - 1s 72ms/step - loss: 0.0000e+00 - accuracy: 1.0000\n",
      "Epoch 31/50\n",
      "7/7 [==============================] - 0s 69ms/step - loss: 0.0000e+00 - accuracy: 1.0000\n",
      "Epoch 32/50\n",
      "7/7 [==============================] - 1s 73ms/step - loss: 0.0000e+00 - accuracy: 1.0000\n",
      "Epoch 33/50\n",
      "7/7 [==============================] - 1s 73ms/step - loss: 0.0000e+00 - accuracy: 1.0000\n",
      "Epoch 34/50\n",
      "7/7 [==============================] - 1s 76ms/step - loss: 0.0000e+00 - accuracy: 1.0000\n",
      "Epoch 35/50\n",
      "7/7 [==============================] - 1s 73ms/step - loss: 0.0000e+00 - accuracy: 1.0000\n",
      "Epoch 36/50\n",
      "7/7 [==============================] - 1s 90ms/step - loss: 0.0000e+00 - accuracy: 1.0000\n",
      "Epoch 37/50\n",
      "7/7 [==============================] - 1s 74ms/step - loss: 0.0000e+00 - accuracy: 1.0000\n",
      "Epoch 38/50\n",
      "7/7 [==============================] - 1s 72ms/step - loss: 0.0000e+00 - accuracy: 1.0000\n",
      "Epoch 39/50\n",
      "7/7 [==============================] - 1s 77ms/step - loss: 0.0000e+00 - accuracy: 1.0000\n",
      "Epoch 40/50\n",
      "7/7 [==============================] - 0s 70ms/step - loss: 0.0000e+00 - accuracy: 1.0000\n",
      "Epoch 41/50\n",
      "7/7 [==============================] - 1s 72ms/step - loss: 0.0000e+00 - accuracy: 1.0000\n",
      "Epoch 42/50\n",
      "7/7 [==============================] - 0s 70ms/step - loss: 0.0000e+00 - accuracy: 1.0000\n",
      "Epoch 43/50\n",
      "7/7 [==============================] - 0s 71ms/step - loss: 0.0000e+00 - accuracy: 1.0000\n",
      "Epoch 44/50\n",
      "7/7 [==============================] - 1s 80ms/step - loss: 0.0000e+00 - accuracy: 1.0000\n",
      "Epoch 45/50\n",
      "7/7 [==============================] - 1s 74ms/step - loss: 0.0000e+00 - accuracy: 1.0000\n",
      "Epoch 46/50\n",
      "7/7 [==============================] - 1s 77ms/step - loss: 0.0000e+00 - accuracy: 1.0000\n",
      "Epoch 47/50\n",
      "7/7 [==============================] - 1s 78ms/step - loss: 0.0000e+00 - accuracy: 1.0000 0s - loss: 0.0000e+00 - accu\n",
      "Epoch 48/50\n",
      "7/7 [==============================] - 0s 69ms/step - loss: 0.0000e+00 - accuracy: 1.0000\n",
      "Epoch 49/50\n",
      "7/7 [==============================] - 1s 74ms/step - loss: 0.0000e+00 - accuracy: 1.0000\n",
      "Epoch 50/50\n",
      "7/7 [==============================] - 0s 67ms/step - loss: 0.0000e+00 - accuracy: 1.0000\n"
     ]
    }
   ],
   "source": [
    "model = keras.Sequential([\n",
    "    keras.layers.Flatten(input_shape=(150, 150,3)),\n",
    "    keras.layers.Dense(128, activation='relu'),\n",
    "    \n",
    "    keras.layers.Dense(15, activation='softmax'),\n",
    "    \n",
    "])\n",
    "model.compile(optimizer='adam',\n",
    "              loss='sparse_categorical_crossentropy',\n",
    "              metrics=['accuracy'])\n",
    "model.fit(Images, Labels, epochs=30)\n",
    "trained=model.fit(Images, Labels, epochs=50)"
   ]
  },
  {
   "cell_type": "code",
   "execution_count": 44,
   "metadata": {},
   "outputs": [
    {
     "data": {
      "image/png": "[encoded data removed]",
      "text/plain": [
       "<Figure size 432x288 with 1 Axes>"
      ]
     },
     "metadata": {
      "needs_background": "light"
     },
     "output_type": "display_data"
    }
   ],
   "source": [
    "img=cv2.imread(\"./data/pruebas/Alnus_Sieboldiana_15.ab.jpg\")\n",
    "img_cvt=cv2.cvtColor(img,cv2.COLOR_BGR2RGB)\n",
    "plt.imshow(img_cvt)\n",
    "plt.show()"
   ]
  },
  {
   "cell_type": "code",
   "execution_count": 46,
   "metadata": {},
   "outputs": [
    {
     "name": "stdout",
     "output_type": "stream",
     "text": [
      "La planta ingresada pertenece a la especie: Alnus Sieboldiana\n"
     ]
    }
   ],
   "source": [
    "img2=img_cvt\n",
    "img2=cv2.resize(img2,(img_size,img_size))\n",
    "#print(img2.shape)\n",
    "img2=(np.expand_dims(img2,0))\n",
    "#print(img2.shape)\n",
    "prediction_single=model.predict(img2)\n",
    "print(\"La planta ingresada pertenece a la especie:\",class_names[np.argmax(prediction_single)])"
   ]
  },
  {
   "cell_type": "code",
   "execution_count": null,
   "metadata": {},
   "outputs": [],
   "source": []
  }
 ],
 "metadata": {
  "kernelspec": {
   "display_name": "Python 3",
   "language": "python",
   "name": "python3"
  },
  "language_info": {
   "codemirror_mode": {
    "name": "ipython",
    "version": 3
   },
   "file_extension": ".py",
   "mimetype": "text/x-python",
   "name": "python",
   "nbconvert_exporter": "python",
   "pygments_lexer": "ipython3",
   "version": "3.8.5"
  }
 },
 "nbformat": 4,
 "nbformat_minor": 4
}
